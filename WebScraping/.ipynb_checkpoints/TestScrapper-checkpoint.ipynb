{
 "cells": [
  {
   "cell_type": "code",
   "execution_count": 2,
   "id": "ec6d76f2",
   "metadata": {},
   "outputs": [],
   "source": [
    "import WebScraper as ws"
   ]
  },
  {
   "cell_type": "code",
   "execution_count": 3,
   "id": "4976898b",
   "metadata": {},
   "outputs": [],
   "source": [
    "contents = []\n",
    "topics = ['crypto']\n",
    "Header = [\"id\", \"source\", \"company\", \"category\", \"header\", \"summary\", \"content\", \"published_date\", \"href\"]\n",
    "n = len(Header)\n",
    "freq = 'daily'\n",
    "# Create a DataFrame using Pandas\n",
    "#df = pd.DataFrame(columns=Header)\n",
    "\n",
    "\n",
    "def scrap_data():\n",
    "    NEWS = True\n",
    "    STOCKS = False\n",
    "    SHOW_BROWSER_UI = False\n",
    "    if NEWS == True:\n",
    "        topics = ['crypto']\n",
    "        test_querying_full_news_content = False\n",
    "        try:\n",
    "            html_element = '/html/body/div[1]/div/div/div[1]/div/div[3]/div[1]/div/div[1]/div/div[1]/h1'\n",
    "            news_scraper = ws.NewsScrapper(SHOW_BROWSER_UI, topics)\n",
    "            if test_querying_full_news_content == True:\n",
    "                print(\"Corso 0\")\n",
    "                news_scraper.test_fullNewContent()\n",
    "            else:\n",
    "                news_scraper.selenium_scrapper(html_element)\n",
    "        except Exception as e:\n",
    "            print('error during scrap_data()=> ', e)\n",
    "    elif STOCKS == True:\n",
    "        topics = ['crypto']\n",
    "        try:\n",
    "            html_element = '/html/body/div[1]/div/div/div[1]/div/div[3]/div[1]/div/div[1]/div/div[1]/h1'\n",
    "            stock_scraper = ws.StocksScrapper(SHOW_BROWSER_UI, topics)\n",
    "            stock_scraper.startScrapping()\n",
    "        except Exception as e:\n",
    "            print('error during scrap_data()=> ', e)\n",
    "        \n",
    "def run():\n",
    "    try:\n",
    "        scrap_data()\n",
    "    except Exception as e:\n",
    "        print('error during run process => ', e)"
   ]
  },
  {
   "cell_type": "code",
   "execution_count": 4,
   "id": "fc269830",
   "metadata": {},
   "outputs": [
    {
     "name": "stdout",
     "output_type": "stream",
     "text": [
      "error during scrap_data()=>  'module' object is not callable\n"
     ]
    }
   ],
   "source": [
    "run()"
   ]
  }
 ],
 "metadata": {
  "kernelspec": {
   "display_name": "Python 3 (ipykernel)",
   "language": "python",
   "name": "python3"
  },
  "language_info": {
   "codemirror_mode": {
    "name": "ipython",
    "version": 3
   },
   "file_extension": ".py",
   "mimetype": "text/x-python",
   "name": "python",
   "nbconvert_exporter": "python",
   "pygments_lexer": "ipython3",
   "version": "3.11.4"
  }
 },
 "nbformat": 4,
 "nbformat_minor": 5
}
