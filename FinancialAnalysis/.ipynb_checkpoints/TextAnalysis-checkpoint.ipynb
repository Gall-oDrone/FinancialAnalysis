{
 "cells": [
  {
   "cell_type": "code",
   "execution_count": 1,
   "id": "37045f48",
   "metadata": {},
   "outputs": [],
   "source": [
    "import sys\n",
    "sys.path.append('../Storage')\n",
    "\n",
    "import pgConn\n",
    "import PostgresSQL_table_queries\n",
    "import remoteStorage\n",
    "\n",
    "import pandas as pd\n",
    "from datetime import datetime\n",
    "from sklearn.feature_extraction.text import TfidfVectorizer"
   ]
  },
  {
   "cell_type": "code",
   "execution_count": 2,
   "id": "c7dcd66d",
   "metadata": {},
   "outputs": [
    {
     "name": "stdout",
     "output_type": "stream",
     "text": [
      "Connection to the database successful!\n",
      "Table name set to: financial_news\n"
     ]
    }
   ],
   "source": [
    "pg_conn = pgConn.PgConn(\"financial_news\")\n",
    "df = pg_conn.get_financial_news()"
   ]
  },
  {
   "cell_type": "code",
   "execution_count": 3,
   "id": "a95b5f88",
   "metadata": {},
   "outputs": [],
   "source": [
    "class TextAnalysis:\n",
    "    def __init__(self, dataframe):\n",
    "        self.dataframe = dataframe\n",
    "        self.vectorizer = None\n",
    "        self.tfidf_matrix = None\n",
    "        \n",
    "    def term_freq(self):\n",
    "        # Calculate term frequency\n",
    "        if self.dataframe is not None:\n",
    "            self.vectorizer = TfidfVectorizer(use_idf=False)\n",
    "            self.tfidf_matrix = self.vectorizer.fit_transform(self.dataframe['content'].values.astype('U'))\n",
    "            return self.tfidf_matrix\n",
    "        else:\n",
    "            return None\n",
    "        \n",
    "    def doc_freq(self):\n",
    "        # Calculate document frequency\n",
    "        if self.vectorizer is not None:\n",
    "            doc_freq = self.tfidf_matrix.astype(bool).sum(axis=0)\n",
    "            return doc_freq\n",
    "        else:\n",
    "            return None\n",
    "        \n",
    "    def tf_Idf(self):\n",
    "        # Calculate TF-IDF\n",
    "        if self.vectorizer is not None:\n",
    "            tfidf_transformer = TfidfVectorizer(use_idf=True)\n",
    "            self.tfidf_matrix = tfidf_transformer.fit_transform(self.dataframe['content'].values.astype('U'))\n",
    "            return self.tfidf_matrix\n",
    "        else:\n",
    "            return None\n",
    "    \n",
    "    def print_term_freq(self):\n",
    "        # Print term frequency\n",
    "        if self.vectorizer is not None:\n",
    "            terms = self.vectorizer.get_feature_names_out()\n",
    "            for term in terms:\n",
    "                print(f\"Term: {term}\")\n",
    "        else:\n",
    "            print(\"No term frequency calculated.\")\n",
    "    \n",
    "    def print_doc_freq(self):\n",
    "        # Print document frequency\n",
    "        if self.vectorizer is not None:\n",
    "            doc_freq = self.doc_freq()\n",
    "            terms = self.vectorizer.get_feature_names_out()\n",
    "            for i, term in enumerate(terms):\n",
    "                print(f\"Term: {term}, Document Frequency: {doc_freq[0, i]}\")\n",
    "        else:\n",
    "            print(\"No document frequency calculated.\")\n",
    "    \n",
    "    def print_tf_Idf(self):\n",
    "        # Print TF-IDF\n",
    "        if self.vectorizer is not None:\n",
    "            terms = self.vectorizer.get_feature_names_out()\n",
    "            for i, term in enumerate(terms):\n",
    "                print(f\"Term: {term}, TF-IDF: {self.tfidf_matrix[0, i]}\")\n",
    "        else:\n",
    "            print(\"No TF-IDF calculated.\")"
   ]
  },
  {
   "cell_type": "code",
   "execution_count": 4,
   "id": "9df662cc",
   "metadata": {},
   "outputs": [
    {
     "ename": "TypeError",
     "evalue": "TfidfVectorizer.__init__() got an unexpected keyword argument 'use_ids'",
     "output_type": "error",
     "traceback": [
      "\u001b[0;31m---------------------------------------------------------------------------\u001b[0m",
      "\u001b[0;31mTypeError\u001b[0m                                 Traceback (most recent call last)",
      "Cell \u001b[0;32mIn[4], line 2\u001b[0m\n\u001b[1;32m      1\u001b[0m analysis \u001b[38;5;241m=\u001b[39m TextAnalysis(df)\n\u001b[0;32m----> 2\u001b[0m term_freq_matrix \u001b[38;5;241m=\u001b[39m analysis\u001b[38;5;241m.\u001b[39mterm_freq()\n\u001b[1;32m      3\u001b[0m doc_freq_vector \u001b[38;5;241m=\u001b[39m analysis\u001b[38;5;241m.\u001b[39mdoc_freq()\n\u001b[1;32m      4\u001b[0m tfidf_matrix \u001b[38;5;241m=\u001b[39m analysis\u001b[38;5;241m.\u001b[39mtf_Idf()\n",
      "Cell \u001b[0;32mIn[3], line 10\u001b[0m, in \u001b[0;36mTextAnalysis.term_freq\u001b[0;34m(self)\u001b[0m\n\u001b[1;32m      7\u001b[0m \u001b[38;5;28;01mdef\u001b[39;00m \u001b[38;5;21mterm_freq\u001b[39m(\u001b[38;5;28mself\u001b[39m):\n\u001b[1;32m      8\u001b[0m     \u001b[38;5;66;03m# Calculate term frequency\u001b[39;00m\n\u001b[1;32m      9\u001b[0m     \u001b[38;5;28;01mif\u001b[39;00m \u001b[38;5;28mself\u001b[39m\u001b[38;5;241m.\u001b[39mdataframe \u001b[38;5;129;01mis\u001b[39;00m \u001b[38;5;129;01mnot\u001b[39;00m \u001b[38;5;28;01mNone\u001b[39;00m:\n\u001b[0;32m---> 10\u001b[0m         \u001b[38;5;28mself\u001b[39m\u001b[38;5;241m.\u001b[39mvectorizer \u001b[38;5;241m=\u001b[39m TfidfVectorizer(use_ids\u001b[38;5;241m=\u001b[39m\u001b[38;5;28;01mFalse\u001b[39;00m)\n\u001b[1;32m     11\u001b[0m         \u001b[38;5;28mself\u001b[39m\u001b[38;5;241m.\u001b[39mtfidf_matrix \u001b[38;5;241m=\u001b[39m \u001b[38;5;28mself\u001b[39m\u001b[38;5;241m.\u001b[39mvectorizer\u001b[38;5;241m.\u001b[39mfit_transform(\u001b[38;5;28mself\u001b[39m\u001b[38;5;241m.\u001b[39mdataframe[\u001b[38;5;124m'\u001b[39m\u001b[38;5;124mcontent\u001b[39m\u001b[38;5;124m'\u001b[39m]\u001b[38;5;241m.\u001b[39mvalues\u001b[38;5;241m.\u001b[39mastype(\u001b[38;5;124m'\u001b[39m\u001b[38;5;124mU\u001b[39m\u001b[38;5;124m'\u001b[39m))\n\u001b[1;32m     12\u001b[0m         \u001b[38;5;28;01mreturn\u001b[39;00m \u001b[38;5;28mself\u001b[39m\u001b[38;5;241m.\u001b[39mtfidf_matrix\n",
      "\u001b[0;31mTypeError\u001b[0m: TfidfVectorizer.__init__() got an unexpected keyword argument 'use_ids'"
     ]
    }
   ],
   "source": [
    "analysis = TextAnalysis(df)\n",
    "term_freq_matrix = analysis.term_freq()\n",
    "doc_freq_vector = analysis.doc_freq()\n",
    "tfidf_matrix = analysis.tf_Idf()"
   ]
  },
  {
   "cell_type": "code",
   "execution_count": null,
   "id": "4caaa2de",
   "metadata": {},
   "outputs": [],
   "source": [
    "# Print the results\n",
    "analysis.print_term_freq()\n",
    "analysis.print_doc_freq()\n",
    "analysis.print_tf_Idf()"
   ]
  }
 ],
 "metadata": {
  "kernelspec": {
   "display_name": "Python 3 (ipykernel)",
   "language": "python",
   "name": "python3"
  },
  "language_info": {
   "codemirror_mode": {
    "name": "ipython",
    "version": 3
   },
   "file_extension": ".py",
   "mimetype": "text/x-python",
   "name": "python",
   "nbconvert_exporter": "python",
   "pygments_lexer": "ipython3",
   "version": "3.11.4"
  }
 },
 "nbformat": 4,
 "nbformat_minor": 5
}
