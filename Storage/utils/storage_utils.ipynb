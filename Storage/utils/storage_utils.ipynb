{
 "cells": [
  {
   "cell_type": "code",
   "execution_count": 12,
   "id": "15bc288a",
   "metadata": {},
   "outputs": [],
   "source": [
    "import sys\n",
    "sys.path.append('../../Storage')\n",
    "import remoteStorage"
   ]
  },
  {
   "cell_type": "code",
   "execution_count": 13,
   "id": "bca73247",
   "metadata": {},
   "outputs": [],
   "source": [
    "TARGET_BUCKET = \"test-financial-stocks-bucket\"\n",
    "DELETE_BUCKET = False\n",
    "DELETE_ALL_ELEMENTS_FROM_BUCKET = True"
   ]
  },
  {
   "cell_type": "code",
   "execution_count": 14,
   "id": "6a671ef2",
   "metadata": {},
   "outputs": [
    {
     "name": "stdout",
     "output_type": "stream",
     "text": [
      "All objects deleted from bucket 'test-financial-stocks-bucket'.\n"
     ]
    }
   ],
   "source": [
    "# Initialize AWS storage\n",
    "aws_storage = remoteStorage.CloudStorageProvider.AWS()\n",
    "\n",
    "# Create a new bucket\n",
    "aws_storage.delete_all_objects_in_bucket(TARGET_BUCKET)"
   ]
  },
  {
   "cell_type": "code",
   "execution_count": 15,
   "id": "5694a46d",
   "metadata": {},
   "outputs": [
    {
     "name": "stdout",
     "output_type": "stream",
     "text": [
      "All objects deleted from bucket 'test-financial-stocks-bucket'.\n"
     ]
    }
   ],
   "source": [
    "if DELETE_BUCKET == True:\n",
    "    aws_storage.delete_bucket(TARGET_BUCKET)\n",
    "elif DELETE_ALL_ELEMENTS_FROM_BUCKET == True:\n",
    "    aws_storage.delete_all_objects_in_bucket(TARGET_BUCKET)"
   ]
  },
  {
   "cell_type": "code",
   "execution_count": null,
   "id": "bf0c8bb1",
   "metadata": {},
   "outputs": [],
   "source": []
  }
 ],
 "metadata": {
  "kernelspec": {
   "display_name": "Python 3 (ipykernel)",
   "language": "python",
   "name": "python3"
  },
  "language_info": {
   "codemirror_mode": {
    "name": "ipython",
    "version": 3
   },
   "file_extension": ".py",
   "mimetype": "text/x-python",
   "name": "python",
   "nbconvert_exporter": "python",
   "pygments_lexer": "ipython3",
   "version": "3.11.4"
  }
 },
 "nbformat": 4,
 "nbformat_minor": 5
}
